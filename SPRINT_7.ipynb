{
 "cells": [
  {
   "cell_type": "markdown",
   "metadata": {},
   "source": [
    "# Hola Bastian!\n",
    "\n",
    "Mi nombre es David Bautista, soy code reviewer de Tripleten y hoy tengo el gusto de revisar tu proyecto.\n",
    "\n",
    "Cuando vea un error laa primera vez, lo señalaré. Deberás encontrarlo y arreglarlo. La intención es que te prepares para un espacio real de trabajo. En un trabajo, el líder de tu equipo hará lo mismo. Si no puedes solucionar el error, te daré más información en la próxima ocasión.\n",
    "\n",
    "Encontrarás mis comentarios más abajo - por favor, no los muevas, no los modifiques ni los borres.\n",
    "\n",
    "¿Cómo lo voy a hacer? Voy a leer detenidamente cada una de las implementaciones que has llevado a cabo para cumplir con lo solicitado. Verás los comentarios de esta forma:\n",
    "\n",
    "<div class=\"alert alert-block alert-success\">\n",
    "<b>Comentario del revisor</b> <a class=\"tocSkip\"></a>\n",
    "    \n",
    "Si todo está perfecto.\n",
    "</div>\n",
    "\n",
    "\n",
    "<div class=\"alert alert-block alert-warning\">\n",
    "<b>Comentario del revisor</b> <a class=\"tocSkip\"></a>\n",
    "    \n",
    "Si tu código está bien pero se puede mejorar o hay algún detalle que le hace falta.\n",
    "</div>\n",
    "\n",
    "\n",
    "<div class=\"alert alert-block alert-danger\">\n",
    "    \n",
    "<b>Comentario del revisor</b> <a class=\"tocSkip\"></a>\n",
    "    \n",
    "Si de pronto hace falta algo o existe algún problema con tu código o conclusiones.\n",
    "</div>\n",
    "\n",
    "\n",
    "Puedes responderme de esta forma: \n",
    "\n",
    "<div class=\"alert alert-block alert-info\">\n",
    "<b>Respuesta del estudiante</b> <a class=\"tocSkip\"></a>\n",
    "</div>\n",
    "\n",
    "¡Empecemos!"
   ]
  },
  {
   "cell_type": "markdown",
   "metadata": {},
   "source": [
    "\n",
    "<div class=\"alert alert-block alert-danger\">\n",
    "<b>Comentario del revisor</b> <a class=\"tocSkip\"></a>\n",
    "   \n",
    "# Comentario General\n",
    "    \n",
    "~~Hola Bastian, te felicito por el desarrollo del proyecto hasta el momento. Ahora bien, he dejado un comentario en rojo par que lo puedas tener en cuenta para la siguiente entrega.~~ </div>\n",
    "\n",
    "\n",
    "<div class=\"alert alert-block alert-success\">\n",
    "<b>Comentario del revisor</b> <a class=\"tocSkip\"></a>\n",
    "   \n",
    "# Comentario General #2\n",
    "    \n",
    "Hola Bastian, te felicito por la culminación del proyecto. Muy buen trabajo. </div>"
   ]
  },
  {
   "cell_type": "markdown",
   "metadata": {},
   "source": [
    "<div class=\"alert alert-block alert-danger\">\n",
    "<b>Comentario del revisor</b> <a class=\"tocSkip\"></a>\n",
    "\n",
    "~~Bastian, no olvides que sería ideal generar una introducción para el proyecto, la cual permita situarse al lector de una mejor manera.~~  </div>"
   ]
  },
  {
   "cell_type": "markdown",
   "metadata": {},
   "source": [
    "<div class=\"alert alert-block alert-info\">\n",
    "<b>Agregado una Introduccion al Proyecto</b> <a class=\"tocSkip\"></a>\n",
    "</div>"
   ]
  },
  {
   "cell_type": "markdown",
   "metadata": {},
   "source": [
    "# Análisis de Datos en la Industria de Viajes Compartidos"
   ]
  },
  {
   "cell_type": "markdown",
   "metadata": {},
   "source": [
    "Estimado Revisor de \"zuber\",\n",
    "\n",
    "Estamos realizando un análisis detallado para comprender las preferencias de nuestros pasajeros y cómo el clima puede afectar su experiencia de viaje.\n",
    "\n",
    "**Metodología del Proyecto**\n",
    "\n",
    "Nuestro análisis se desarrollará en cinco pasos clave:\n",
    "\n",
    "* **Paso 1: Análisis Climático**\n",
    "\n",
    "Extraeremos y analizaremos los datos climáticos de Chicago durante el mes de noviembre de 2017. Esto nos proporcionará una base para comprender cómo las condiciones climáticas podrían afectar la operación de los servicios de viajes compartidos.**(Trabajados en ejercicios anteriores)**\n",
    "\n",
    "* **Paso 2: Análisis Exploratorio de Datos**\n",
    "\n",
    "Utilizaremos los registros de viajes para evaluar la actividad de las empresas de taxis durante períodos seleccionados de noviembre de 2017. Identificaremos los patrones de uso en función del nombre de las empresas y del número de viajes, lo que nos permitirá comprender mejor la distribución del mercado.**(Trabajados en ejercicios anteriores)**\n",
    "\n",
    "* **Paso 3: Prueba de Hipótesis sobre el Clima**\n",
    "\n",
    "Con los identificadores de barrios específicos y los datos meteorológicos, examinaremos la hipótesis de si la duración de los viajes se ve afectada por el clima lluvioso en los sábados. Esto implicará la segmentación de los datos según las condiciones del tiempo y un análisis detallado de los viajes entre el Loop y el Aeropuerto Internacional O'Hare.**(Trabajados en ejercicios anteriores)**\n",
    "\n",
    "* **Paso 4: Análisis Exploratorio con Python**\n",
    "\n",
    "Procederemos a importar y explorar dos conjuntos de datos CSV adicionales para profundizar en nuestras comprensiones. Aseguraremos la corrección de los tipos de datos, identificaremos los barrios principales en términos de finalizaciones de viajes y visualizaremos los datos mediante gráficos claros y concisos. **(a Continuacion)**\n",
    "\n",
    "* **Paso 5: Prueba de Hipótesis con Python**\n",
    "\n",
    "Por último, realizaremos una prueba de hipótesis utilizando Python para confirmar o refutar si las condiciones climáticas de los sábados lluviosos influyen en la duración de los viajes desde el Loop hasta el Aeropuerto Internacional O'Hare. Estableceremos un nivel de significación adecuado y explicaremos nuestro razonamiento detrás de las hipótesis nula y alternativa y los criterios utilizados para la prueba.**(a Continuacion)**\n",
    "\n",
    "Con este enfoque metódico, esperamos no solo comprender las tendencias actuales sino también equipar a Zuber con la información necesaria para tomar decisiones estratégicas informadas y mejorar la experiencia del cliente, sin importar el clima."
   ]
  },
  {
   "cell_type": "markdown",
   "metadata": {},
   "source": [
    "<div class=\"alert alert-block alert-success\">\n",
    "<b>Comentario del revisor #2</b> <a class=\"tocSkip\"></a>\n",
    "\n",
    "Perfecto, buen trabajoa Bastian.  </div>"
   ]
  },
  {
   "cell_type": "markdown",
   "metadata": {},
   "source": [
    "# Paso 4 - Análisis Exploratorio de Datos\n"
   ]
  },
  {
   "cell_type": "code",
   "execution_count": 1,
   "metadata": {},
   "outputs": [],
   "source": [
    "# Importar las bibliotecas necesarias\n",
    "import pandas as pd\n",
    "import matplotlib.pyplot as plt\n",
    "from scipy.stats import ttest_ind"
   ]
  },
  {
   "cell_type": "markdown",
   "metadata": {},
   "source": [
    "<div class=\"alert alert-block alert-success\">\n",
    "<b>Comentario del revisor</b> <a class=\"tocSkip\"></a>\n",
    "    \n",
    "Buen trabajo importando las librerías necesarias para el desarrollo del proyecto. </div>"
   ]
  },
  {
   "cell_type": "code",
   "execution_count": 2,
   "metadata": {},
   "outputs": [],
   "source": [
    "# Importar los archivos CSV\n",
    "df_company_trips = pd.read_csv(\"/datasets/project_sql_result_01.csv\")\n",
    "df_dropoff_locations = pd.read_csv(\"/datasets/project_sql_result_04.csv\")"
   ]
  },
  {
   "cell_type": "markdown",
   "metadata": {},
   "source": [
    "<div class=\"alert alert-block alert-success\">\n",
    "<b>Comentario del revisor</b> <a class=\"tocSkip\"></a>\n",
    "    \n",
    "Buen trabajo cargando estos primeros datasets necesarios para el desarrollo del proyecto.  </div>"
   ]
  },
  {
   "cell_type": "code",
   "execution_count": 3,
   "metadata": {},
   "outputs": [
    {
     "data": {
      "text/html": [
       "<div>\n",
       "<style scoped>\n",
       "    .dataframe tbody tr th:only-of-type {\n",
       "        vertical-align: middle;\n",
       "    }\n",
       "\n",
       "    .dataframe tbody tr th {\n",
       "        vertical-align: top;\n",
       "    }\n",
       "\n",
       "    .dataframe thead th {\n",
       "        text-align: right;\n",
       "    }\n",
       "</style>\n",
       "<table border=\"1\" class=\"dataframe\">\n",
       "  <thead>\n",
       "    <tr style=\"text-align: right;\">\n",
       "      <th></th>\n",
       "      <th>company_name</th>\n",
       "      <th>trips_amount</th>\n",
       "    </tr>\n",
       "  </thead>\n",
       "  <tbody>\n",
       "    <tr>\n",
       "      <th>0</th>\n",
       "      <td>Flash Cab</td>\n",
       "      <td>19558</td>\n",
       "    </tr>\n",
       "    <tr>\n",
       "      <th>1</th>\n",
       "      <td>Taxi Affiliation Services</td>\n",
       "      <td>11422</td>\n",
       "    </tr>\n",
       "    <tr>\n",
       "      <th>2</th>\n",
       "      <td>Medallion Leasing</td>\n",
       "      <td>10367</td>\n",
       "    </tr>\n",
       "    <tr>\n",
       "      <th>3</th>\n",
       "      <td>Yellow Cab</td>\n",
       "      <td>9888</td>\n",
       "    </tr>\n",
       "    <tr>\n",
       "      <th>4</th>\n",
       "      <td>Taxi Affiliation Service Yellow</td>\n",
       "      <td>9299</td>\n",
       "    </tr>\n",
       "  </tbody>\n",
       "</table>\n",
       "</div>"
      ],
      "text/plain": [
       "                      company_name  trips_amount\n",
       "0                        Flash Cab         19558\n",
       "1        Taxi Affiliation Services         11422\n",
       "2                Medallion Leasing         10367\n",
       "3                       Yellow Cab          9888\n",
       "4  Taxi Affiliation Service Yellow          9299"
      ]
     },
     "execution_count": 3,
     "metadata": {},
     "output_type": "execute_result"
    }
   ],
   "source": [
    "# Estudiar los datos\n",
    "# Mostrar las primeras filas de cada DataFrame\n",
    "df_company_trips.head()"
   ]
  },
  {
   "cell_type": "code",
   "execution_count": 4,
   "metadata": {},
   "outputs": [
    {
     "data": {
      "text/html": [
       "<div>\n",
       "<style scoped>\n",
       "    .dataframe tbody tr th:only-of-type {\n",
       "        vertical-align: middle;\n",
       "    }\n",
       "\n",
       "    .dataframe tbody tr th {\n",
       "        vertical-align: top;\n",
       "    }\n",
       "\n",
       "    .dataframe thead th {\n",
       "        text-align: right;\n",
       "    }\n",
       "</style>\n",
       "<table border=\"1\" class=\"dataframe\">\n",
       "  <thead>\n",
       "    <tr style=\"text-align: right;\">\n",
       "      <th></th>\n",
       "      <th>dropoff_location_name</th>\n",
       "      <th>average_trips</th>\n",
       "    </tr>\n",
       "  </thead>\n",
       "  <tbody>\n",
       "    <tr>\n",
       "      <th>0</th>\n",
       "      <td>Loop</td>\n",
       "      <td>10727.466667</td>\n",
       "    </tr>\n",
       "    <tr>\n",
       "      <th>1</th>\n",
       "      <td>River North</td>\n",
       "      <td>9523.666667</td>\n",
       "    </tr>\n",
       "    <tr>\n",
       "      <th>2</th>\n",
       "      <td>Streeterville</td>\n",
       "      <td>6664.666667</td>\n",
       "    </tr>\n",
       "    <tr>\n",
       "      <th>3</th>\n",
       "      <td>West Loop</td>\n",
       "      <td>5163.666667</td>\n",
       "    </tr>\n",
       "    <tr>\n",
       "      <th>4</th>\n",
       "      <td>O'Hare</td>\n",
       "      <td>2546.900000</td>\n",
       "    </tr>\n",
       "  </tbody>\n",
       "</table>\n",
       "</div>"
      ],
      "text/plain": [
       "  dropoff_location_name  average_trips\n",
       "0                  Loop   10727.466667\n",
       "1           River North    9523.666667\n",
       "2         Streeterville    6664.666667\n",
       "3             West Loop    5163.666667\n",
       "4                O'Hare    2546.900000"
      ]
     },
     "execution_count": 4,
     "metadata": {},
     "output_type": "execute_result"
    }
   ],
   "source": [
    "df_dropoff_locations.head()"
   ]
  },
  {
   "cell_type": "code",
   "execution_count": 5,
   "metadata": {},
   "outputs": [
    {
     "name": "stdout",
     "output_type": "stream",
     "text": [
      "company_name    object\n",
      "trips_amount     int64\n",
      "dtype: object\n"
     ]
    }
   ],
   "source": [
    "# Verificar y asegurar que los tipos de datos sean correctos\n",
    "# Mostrar los tipos de datos de cada columna en cada DataFrame\n",
    "print(df_company_trips.dtypes)"
   ]
  },
  {
   "cell_type": "code",
   "execution_count": 6,
   "metadata": {},
   "outputs": [
    {
     "name": "stdout",
     "output_type": "stream",
     "text": [
      "dropoff_location_name     object\n",
      "average_trips            float64\n",
      "dtype: object\n"
     ]
    }
   ],
   "source": [
    "print(df_dropoff_locations.dtypes)"
   ]
  },
  {
   "cell_type": "markdown",
   "metadata": {},
   "source": [
    "<div class=\"alert alert-block alert-success\">\n",
    "<b>Comentario del revisor</b> <a class=\"tocSkip\"></a>\n",
    "    \n",
    "Perfecto, buen trabajo con esta exploración inicial de las tablas.  </div>"
   ]
  },
  {
   "cell_type": "code",
   "execution_count": 7,
   "metadata": {},
   "outputs": [],
   "source": [
    "# Identificar los 10 principales barrios en términos de finalización del recorrido\n",
    "# Ordenar el DataFrame df_dropoff_locations por la columna 'average_trips' en orden descendente\n",
    "top_10_dropoff_locations = df_dropoff_locations.sort_values(by='average_trips', ascending=False).head(10)"
   ]
  },
  {
   "cell_type": "code",
   "execution_count": 8,
   "metadata": {},
   "outputs": [
    {
     "data": {
      "image/png": "[encoded data removed]",
      "text/plain": [
       "<Figure size 720x432 with 1 Axes>"
      ]
     },
     "metadata": {
      "needs_background": "light"
     },
     "output_type": "display_data"
    }
   ],
   "source": [
    "# Filtrar las empresas que tienen más de 100 viajes\n",
    "df_company_trips_filtered = df_company_trips[df_company_trips['trips_amount'] > 100]\n",
    "#ya que en el primer analisis mostro un gran numero de empresas que la metrica se vuelve irrelevante.\n",
    "# Crear gráfico de barras para visualizar la cantidad de viajes por empresa de taxis\n",
    "plt.figure(figsize=(10, 6))\n",
    "plt.bar(df_company_trips_filtered['company_name'], df_company_trips_filtered['trips_amount'])\n",
    "plt.title('Cantidad de Viajes por Empresa de Taxis (Empresas con más de 100 viajes)')\n",
    "plt.xlabel('Empresa de Taxis')\n",
    "plt.ylabel('Cantidad de Viajes')\n",
    "plt.xticks(rotation=90)\n",
    "plt.grid(axis='y')\n",
    "plt.show()"
   ]
  },
  {
   "cell_type": "markdown",
   "metadata": {},
   "source": [
    "Aquí presento la gráfica que ilustra la cantidad de viajes por empresa de taxis, habiendo filtrado previamente para incluir solo aquellas empresas que han realizado más de 100 viajes. Este filtro se ha aplicado con el fin de proporcionar una métrica más precisa y relevante para el análisis, ya que las empresas con menos de 100 viajes pueden no ser representativas de tendencias significativas del mercado y además podrían añadir ruido innecesario a la visualización de los datos.\n",
    "\n",
    "* Una empresa claramente lidera el mercado, superando significativamente a las demás con casi 20,000 viajes. Esto indica una posición de mercado dominante.\n",
    "* La distribución muestra una marcada diferencia entre la empresa líder y sus competidores más cercanos, evidenciando una concentración de viajes en el líder del mercado.\n",
    "* La forma de la gráfica sugiere una distribución de Pareto, donde un pequeño número de empresas controla una gran proporción de los viajes.\n",
    "* Hay una amplia competencia entre un gran número de empresas que realizan menos de 10,000 viajes, lo que apunta a un mercado activo y posiblemente fragmentado.\n",
    "* Hacia el extremo derecho de la gráfica, muchas empresas tienen números de viajes bastante parecidos, lo cual podría reflejar un segmento del mercado donde la competencia es intensa entre los operadores más pequeños.\n",
    "\n",
    "Esta gráfica es una herramienta valiosa para comprender cómo se distribuye la actividad en el mercado y podría servir como base para estrategias comerciales y de crecimiento."
   ]
  },
  {
   "cell_type": "code",
   "execution_count": 9,
   "metadata": {},
   "outputs": [
    {
     "data": {
      "image/png": "[encoded data removed]",
      "text/plain": [
       "<Figure size 720x432 with 1 Axes>"
      ]
     },
     "metadata": {
      "needs_background": "light"
     },
     "output_type": "display_data"
    }
   ],
   "source": [
    "# Gráfico de barras para visualizar los 10 principales barrios por número de finalizaciones de viajes\n",
    "plt.figure(figsize=(10, 6))\n",
    "plt.bar(top_10_dropoff_locations['dropoff_location_name'], top_10_dropoff_locations['average_trips'])\n",
    "plt.title('Top 10 Barrios por Número de Finalizaciones de Viajes')\n",
    "plt.xlabel('Barrio')\n",
    "plt.ylabel('Promedio de Viajes')\n",
    "plt.xticks(rotation=90)\n",
    "plt.grid(axis='y')\n",
    "plt.show()"
   ]
  },
  {
   "cell_type": "markdown",
   "metadata": {},
   "source": [
    "Les presento la gráfica que representa los Top 10 barrios por número de finalizaciones de viajes. Este análisis nos ofrece una visión clara sobre las áreas que más actividad de transporte han registrado y nos brinda una perspectiva valiosa sobre el comportamiento de desplazamiento en la ciudad.\n",
    "\n",
    "* El barrio de Loop destaca como la principal área de actividad con el número más alto de finalizaciones de viajes. Esto podría indicar que Loop es un centro económico y social vital, posiblemente con una alta concentración de oficinas, comercios y lugares de ocio.\n",
    "\n",
    "* River North y Streeterville también muestran un volumen considerable de finalizaciones de viajes, lo que los señala como puntos de alta actividad. La presencia de atracciones turísticas, centros de negocios o grandes comunidades residenciales podría explicar esta concentración.\n",
    "\n",
    "* Al avanzar hacia los siguientes barrios en el ranking, como West Loop y O'Hare, vemos una disminución progresiva en el número de finalizaciones. Esto no resta importancia a estas áreas, ya que aún se mantienen dentro del top y representan zonas significativas para los desplazamientos dentro de la ciudad.\n",
    "\n",
    "* Los barrios que completan la lista, incluyendo Lake View, Near North Side y Sheffield & DePaul, aunque presentan menos finalizaciones que los líderes, son aún puntos focales importantes dentro de la trama urbana y podrían ser áreas estratégicas para el desarrollo de servicios complementarios.\n",
    "\n",
    "Este panorama nos permite entender dónde están las mayores demandas de transporte y cómo podrían optimizarse los servicios para satisfacer mejor las necesidades de desplazamiento en la ciudad. Además, estos datos pueden servir como base para futuras inversiones y mejoras en la infraestructura de transporte público y privado."
   ]
  },
  {
   "cell_type": "markdown",
   "metadata": {},
   "source": [
    "<div class=\"alert alert-block alert-success\">\n",
    "<b>Comentario del revisor</b> <a class=\"tocSkip\"></a>\n",
    "    \n",
    "Excelente, muy buen trabajo con la sección Bastian. Desarollas de muy buena manera los dos graficos.  </div>"
   ]
  },
  {
   "cell_type": "markdown",
   "metadata": {},
   "source": [
    "# Paso 5 - Prueba de Hipótesis"
   ]
  },
  {
   "cell_type": "markdown",
   "metadata": {},
   "source": [
    "**Introducción a la Prueba de Hipótesis**\n",
    "\n",
    "En nuestro esfuerzo constante por comprender mejor los factores que afectan el servicio de taxis en nuestra ciudad, hemos dirigido nuestra atención a un aspecto que creemos puede tener un impacto significativo: **el clima**. Nos hemos preguntado si las condiciones climáticas adversas, como la **lluvia**, podrían estar influyendo en la duración de los viajes desde el **Loop hasta el Aeropuerto Internacional O'Hare**, especialmente durante los fines de semana cuando el tráfico puede ser diferente.\n",
    "\n",
    "Esta pregunta surgió a partir de observaciones preliminares y comentarios de conductores y pasajeros que sugieren que los sábados lluviosos a menudo están asociados con viajes más largos debido a las condiciones del tráfico y la carretera. Para investigar esta idea de manera más precisa, **hemos decidido llevar a cabo una prueba estadística llamada prueba de hipótesis**."
   ]
  },
  {
   "cell_type": "markdown",
   "metadata": {},
   "source": [
    "***Iniciaremos cargando el Archivo CSV con la data***"
   ]
  },
  {
   "cell_type": "code",
   "execution_count": 10,
   "metadata": {},
   "outputs": [
    {
     "name": "stdout",
     "output_type": "stream",
     "text": [
      "<class 'pandas.core.frame.DataFrame'>\n",
      "RangeIndex: 1068 entries, 0 to 1067\n",
      "Data columns (total 3 columns):\n",
      " #   Column              Non-Null Count  Dtype  \n",
      "---  ------              --------------  -----  \n",
      " 0   start_ts            1068 non-null   object \n",
      " 1   weather_conditions  1068 non-null   object \n",
      " 2   duration_seconds    1068 non-null   float64\n",
      "dtypes: float64(1), object(2)\n",
      "memory usage: 25.2+ KB\n"
     ]
    }
   ],
   "source": [
    "# Importar los datos del archivo CSV\n",
    "df_trip_data = pd.read_csv(\"/datasets/project_sql_result_07.csv\")\n",
    "\n",
    "df_trip_data.info()"
   ]
  },
  {
   "cell_type": "markdown",
   "metadata": {},
   "source": [
    "<div class=\"alert alert-block alert-success\">\n",
    "<b>Comentario del revisor</b> <a class=\"tocSkip\"></a>\n",
    "    \n",
    "Buen trabajo cargando y explorando la tabla necesaria para el desarrollo de la sección de prueba de hipótesis.  </div>"
   ]
  },
  {
   "cell_type": "markdown",
   "metadata": {},
   "source": [
    "**Detalles de la Prueba de Hipótesis**\n",
    "\n",
    "* Hemos planteado una hipótesis nula (H0) que sugiere que la duración promedio de los viajes no cambia en los sábados lluviosos en comparación con los sábados sin lluvia. \n",
    "* La hipótesis alternativa (H1), por otro lado, sugiere que sí existe un cambio en la duración promedio bajo condiciones de lluvia.\n",
    "\n",
    "Hemos seleccionado un nivel de significación del **0.05**, lo que significa que hemos tratado de equilibrar nuestra sensibilidad para detectar un efecto con la probabilidad de cometer un error.\n",
    "\n",
    "Para probar estas hipótesis, hemos examinado nuestra base de datos de viajes y hemos comparado los realizados en sábados lluviosos con aquellos en sábados con buen tiempo. Luego hemos aplicado una prueba estadística llamada **prueba t** de muestras independientes, que es una forma estándar de comparar las medias de dos grupos distintos y determinar si las diferencias que observamos son estadísticamente significativas."
   ]
  },
  {
   "cell_type": "code",
   "execution_count": 11,
   "metadata": {},
   "outputs": [
    {
     "name": "stdout",
     "output_type": "stream",
     "text": [
      "Rechazamos la hipótesis nula.\n",
      "Hay evidencia estadística para sugerir que la duración promedio de los viajes desde el Loop hasta el Aeropuerto Internacional O'Hare cambia en los sábados lluviosos.\n"
     ]
    }
   ],
   "source": [
    "# Seleccionar un nivel de significación (alfa)\n",
    "alfa = 0.05\n",
    "\n",
    "# Filtrar los datos para obtener solo los viajes realizados los sábados lluviosos\n",
    "rainy_saturdays_data = df_trip_data[df_trip_data['weather_conditions'] == 'Bad']\n",
    "\n",
    "# Filtrar los datos para obtener solo los viajes realizados los sábados sin lluvia\n",
    "clear_saturdays_data = df_trip_data[df_trip_data['weather_conditions'] == 'Good']\n",
    "\n",
    "# Realizar la prueba de hipótesis\n",
    "t_statistic, p_value = ttest_ind(rainy_saturdays_data['duration_seconds'], clear_saturdays_data['duration_seconds'])\n",
    "\n",
    "# Explicar el criterio utilizado para probar las hipótesis y por qué se seleccionó\n",
    "# Utilizamos la prueba t de muestras independientes porque queremos comparar las duraciones promedio de viaje entre dos grupos diferentes (lluvioso y sin lluvia) para ver si hay una diferencia significativa.\n",
    "# El nivel de significación alfa se seleccionó como 0.05, lo que significa que estamos dispuestos a aceptar un 5% de probabilidad de cometer un error tipo I al rechazar incorrectamente la hipótesis nula.\n",
    "\n",
    "# Llegar a conclusiones basadas en los resultados de la prueba de hipótesis\n",
    "if p_value < alfa:\n",
    "    print(\"Rechazamos la hipótesis nula.\")\n",
    "    print(\"Hay evidencia estadística para sugerir que la duración promedio de los viajes desde el Loop hasta el Aeropuerto Internacional O'Hare cambia en los sábados lluviosos.\")\n",
    "else:\n",
    "    print(\"No podemos rechazar la hipótesis nula.\")\n",
    "    print(\"No hay suficiente evidencia estadística para sugerir que la duración promedio de los viajes desde el Loop hasta el Aeropuerto Internacional O'Hare cambia en los sábados lluviosos.\")\n"
   ]
  },
  {
   "cell_type": "markdown",
   "metadata": {},
   "source": [
    "<div class=\"alert alert-block alert-success\">\n",
    "<b>Comentario del revisor</b> <a class=\"tocSkip\"></a>\n",
    "    \n",
    "Genial, buen trabajo desplegando la sección de prueba de hipótesis. </div>"
   ]
  },
  {
   "cell_type": "markdown",
   "metadata": {},
   "source": [
    "**Resultados y Conclusión**\n",
    "\n",
    "Los resultados de nuestra prueba han sido claros y concluyentes. Hemos encontrado evidencia suficiente para rechazar la hipótesis nula. Esto sugiere que, según nuestro análisis, la duración promedio de los viajes desde el Loop hasta el Aeropuerto Internacional O'Hare difiere en los sábados lluviosos en comparación con los sábados sin lluvia.\n",
    "\n",
    "La implicación práctica de este hallazgo es que el mal tiempo parece tener un efecto significativo en la duración de los viajes. Esto es importante para la planificación y gestión de flotas de taxis, ya que puede ayudar a anticipar y gestionar mejor el impacto del clima adverso en el servicio.\n",
    "\n",
    "Este análisis nos proporciona una base sólida para tomar decisiones informadas y podría ayudarnos a adaptar nuestros servicios para responder de manera más efectiva a las necesidades de transporte de nuestra ciudad, especialmente en situaciones climáticas desafiantes.\n",
    "\n",
    "Esperamos que esta información sea útil y estaremos encantados de discutir cualquier pregunta adicional que pueda tener.\n",
    "\n",
    "Saludos cordiales,\n",
    "\n",
    "Bastian Andres Laury Llanos\n",
    "Analista de Datos"
   ]
  },
  {
   "cell_type": "markdown",
   "metadata": {},
   "source": [
    "<div style=\"background-color:#ffff66; color:black;\">\n",
    "Estimado Revisor,\n",
    "\n",
    "Quisiera aclarar que, en mi enfoque inicial para la introducción, metodología y resultados, he optado por presentarlos en forma de equipo. Esta elección se basa en la idea de reflejar un entorno real, donde el análisis de datos no es un esfuerzo individual, sino un trabajo colaborativo que involucra a varios actores. En este contexto, considero que no es apropiado asumir el análisis como un logro personal, ya que es el resultado del trabajo conjunto de todo el equipo.\n",
    "</div>"
   ]
  },
  {
   "cell_type": "markdown",
   "metadata": {},
   "source": [
    "<div class=\"alert alert-block alert-success\">\n",
    "<b>Comentario del revisor</b> <a class=\"tocSkip\"></a>\n",
    "    \n",
    "Entendido, buen trabajo Bastian, además las conclusiones están estructuradas de manera muy interesante. </div>"
   ]
  }
 ],
 "metadata": {
  "kernelspec": {
   "display_name": "Python 3 (ipykernel)",
   "language": "python",
   "name": "python3"
  },
  "language_info": {
   "codemirror_mode": {
    "name": "ipython",
    "version": 3
   },
   "file_extension": ".py",
   "mimetype": "text/x-python",
   "name": "python",
   "nbconvert_exporter": "python",
   "pygments_lexer": "ipython3",
   "version": "3.9.19"
  },
  "toc": {
   "base_numbering": 1,
   "nav_menu": {},
   "number_sections": true,
   "sideBar": true,
   "skip_h1_title": true,
   "title_cell": "Table of Contents",
   "title_sidebar": "Contents",
   "toc_cell": false,
   "toc_position": {},
   "toc_section_display": true,
   "toc_window_display": false
  }
 },
 "nbformat": 4,
 "nbformat_minor": 2
}
